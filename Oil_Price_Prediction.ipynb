{
  "cells": [
    {
      "cell_type": "code",
      "execution_count": 59,
      "metadata": {
        "id": "Sp5yYT6lnxCh"
      },
      "outputs": [],
      "source": [
        "# Import Libraries\n",
        "import pandas as pd\n",
        "import numpy as np\n",
        "import matplotlib.pyplot as plt\n",
        "import seaborn as sns\n",
        "%matplotlib inline\n",
        "import warnings\n",
        "warnings.filterwarnings('ignore')\n"
      ]
    },
    {
      "cell_type": "markdown",
      "metadata": {},
      "source": [
        "### **Step-1  Dataset Understanding**"
      ]
    },
    {
      "cell_type": "code",
      "execution_count": 45,
      "metadata": {
        "id": "uLMjNVYlOu4I"
      },
      "outputs": [],
      "source": [
        "df = pd.read_csv(\"Crude_oil.csv\")"
      ]
    },
    {
      "cell_type": "code",
      "execution_count": 46,
      "metadata": {},
      "outputs": [
        {
          "data": {
            "text/plain": [
              "(2548, 6)"
            ]
          },
          "execution_count": 46,
          "metadata": {},
          "output_type": "execute_result"
        }
      ],
      "source": [
        "df.shape"
      ]
    },
    {
      "cell_type": "code",
      "execution_count": 47,
      "metadata": {
        "colab": {
          "base_uri": "https://localhost:8080/",
          "height": 255
        },
        "id": "QJKLoz1pbSRt",
        "outputId": "1d3c55b2-bb83-4d15-eefd-7cc22ccf9a3c"
      },
      "outputs": [
        {
          "data": {
            "text/html": [
              "<div>\n",
              "<style scoped>\n",
              "    .dataframe tbody tr th:only-of-type {\n",
              "        vertical-align: middle;\n",
              "    }\n",
              "\n",
              "    .dataframe tbody tr th {\n",
              "        vertical-align: top;\n",
              "    }\n",
              "\n",
              "    .dataframe thead th {\n",
              "        text-align: right;\n",
              "    }\n",
              "</style>\n",
              "<table border=\"1\" class=\"dataframe\">\n",
              "  <thead>\n",
              "    <tr style=\"text-align: right;\">\n",
              "      <th></th>\n",
              "      <th>Date</th>\n",
              "      <th>Close/Last</th>\n",
              "      <th>Volume</th>\n",
              "      <th>Open</th>\n",
              "      <th>High</th>\n",
              "      <th>Low</th>\n",
              "    </tr>\n",
              "  </thead>\n",
              "  <tbody>\n",
              "    <tr>\n",
              "      <th>0</th>\n",
              "      <td>10/28/2022</td>\n",
              "      <td>87.90</td>\n",
              "      <td>241417.0</td>\n",
              "      <td>88.67</td>\n",
              "      <td>88.76</td>\n",
              "      <td>87.08</td>\n",
              "    </tr>\n",
              "    <tr>\n",
              "      <th>1</th>\n",
              "      <td>10/27/2022</td>\n",
              "      <td>88.26</td>\n",
              "      <td>273717.0</td>\n",
              "      <td>88.26</td>\n",
              "      <td>89.79</td>\n",
              "      <td>87.33</td>\n",
              "    </tr>\n",
              "    <tr>\n",
              "      <th>2</th>\n",
              "      <td>10/26/2022</td>\n",
              "      <td>87.91</td>\n",
              "      <td>271474.0</td>\n",
              "      <td>85.07</td>\n",
              "      <td>88.41</td>\n",
              "      <td>84.14</td>\n",
              "    </tr>\n",
              "    <tr>\n",
              "      <th>3</th>\n",
              "      <td>10/25/2022</td>\n",
              "      <td>85.32</td>\n",
              "      <td>226337.0</td>\n",
              "      <td>84.88</td>\n",
              "      <td>86.03</td>\n",
              "      <td>83.06</td>\n",
              "    </tr>\n",
              "    <tr>\n",
              "      <th>4</th>\n",
              "      <td>10/24/2022</td>\n",
              "      <td>84.58</td>\n",
              "      <td>238458.0</td>\n",
              "      <td>85.24</td>\n",
              "      <td>85.92</td>\n",
              "      <td>82.63</td>\n",
              "    </tr>\n",
              "  </tbody>\n",
              "</table>\n",
              "</div>"
            ],
            "text/plain": [
              "         Date  Close/Last    Volume   Open   High    Low\n",
              "0  10/28/2022       87.90  241417.0  88.67  88.76  87.08\n",
              "1  10/27/2022       88.26  273717.0  88.26  89.79  87.33\n",
              "2  10/26/2022       87.91  271474.0  85.07  88.41  84.14\n",
              "3  10/25/2022       85.32  226337.0  84.88  86.03  83.06\n",
              "4  10/24/2022       84.58  238458.0  85.24  85.92  82.63"
            ]
          },
          "execution_count": 47,
          "metadata": {},
          "output_type": "execute_result"
        }
      ],
      "source": [
        "df.head()"
      ]
    },
    {
      "cell_type": "code",
      "execution_count": 48,
      "metadata": {
        "colab": {
          "base_uri": "https://localhost:8080/"
        },
        "id": "nekFSn0zReJb",
        "outputId": "b1478526-274b-42ab-8d81-e00fe78cc956"
      },
      "outputs": [
        {
          "name": "stdout",
          "output_type": "stream",
          "text": [
            "<class 'pandas.core.frame.DataFrame'>\n",
            "RangeIndex: 2548 entries, 0 to 2547\n",
            "Data columns (total 6 columns):\n",
            " #   Column      Non-Null Count  Dtype  \n",
            "---  ------      --------------  -----  \n",
            " 0   Date        2548 non-null   object \n",
            " 1   Close/Last  2548 non-null   float64\n",
            " 2   Volume      2517 non-null   float64\n",
            " 3   Open        2548 non-null   float64\n",
            " 4   High        2548 non-null   float64\n",
            " 5   Low         2548 non-null   float64\n",
            "dtypes: float64(5), object(1)\n",
            "memory usage: 119.6+ KB\n"
          ]
        }
      ],
      "source": [
        "df.info()"
      ]
    },
    {
      "cell_type": "code",
      "execution_count": 49,
      "metadata": {
        "colab": {
          "base_uri": "https://localhost:8080/"
        },
        "id": "w6jg9-gMRlU4",
        "outputId": "35c0269c-158d-476d-9e1d-59f97f2117cc"
      },
      "outputs": [
        {
          "data": {
            "text/plain": [
              "Date           0\n",
              "Close/Last     0\n",
              "Volume        31\n",
              "Open           0\n",
              "High           0\n",
              "Low            0\n",
              "dtype: int64"
            ]
          },
          "execution_count": 49,
          "metadata": {},
          "output_type": "execute_result"
        }
      ],
      "source": [
        "df.isna().sum()"
      ]
    },
    {
      "cell_type": "code",
      "execution_count": 50,
      "metadata": {
        "colab": {
          "base_uri": "https://localhost:8080/"
        },
        "id": "VVkJRhm6SCWX",
        "outputId": "c299b77e-ce09-4634-8dbe-9ce6fce0b3a3"
      },
      "outputs": [
        {
          "data": {
            "text/html": [
              "<div>\n",
              "<style scoped>\n",
              "    .dataframe tbody tr th:only-of-type {\n",
              "        vertical-align: middle;\n",
              "    }\n",
              "\n",
              "    .dataframe tbody tr th {\n",
              "        vertical-align: top;\n",
              "    }\n",
              "\n",
              "    .dataframe thead th {\n",
              "        text-align: right;\n",
              "    }\n",
              "</style>\n",
              "<table border=\"1\" class=\"dataframe\">\n",
              "  <thead>\n",
              "    <tr style=\"text-align: right;\">\n",
              "      <th></th>\n",
              "      <th>Close/Last</th>\n",
              "      <th>Volume</th>\n",
              "      <th>Open</th>\n",
              "      <th>High</th>\n",
              "      <th>Low</th>\n",
              "    </tr>\n",
              "  </thead>\n",
              "  <tbody>\n",
              "    <tr>\n",
              "      <th>count</th>\n",
              "      <td>2548.000000</td>\n",
              "      <td>2.517000e+03</td>\n",
              "      <td>2548.000000</td>\n",
              "      <td>2548.000000</td>\n",
              "      <td>2548.000000</td>\n",
              "    </tr>\n",
              "    <tr>\n",
              "      <th>mean</th>\n",
              "      <td>66.043740</td>\n",
              "      <td>3.954717e+05</td>\n",
              "      <td>66.042500</td>\n",
              "      <td>66.959839</td>\n",
              "      <td>65.065043</td>\n",
              "    </tr>\n",
              "    <tr>\n",
              "      <th>std</th>\n",
              "      <td>22.732093</td>\n",
              "      <td>2.345385e+05</td>\n",
              "      <td>22.710749</td>\n",
              "      <td>22.820487</td>\n",
              "      <td>22.565127</td>\n",
              "    </tr>\n",
              "    <tr>\n",
              "      <th>min</th>\n",
              "      <td>-37.630000</td>\n",
              "      <td>1.530000e+02</td>\n",
              "      <td>-37.250000</td>\n",
              "      <td>-35.200000</td>\n",
              "      <td>-40.320000</td>\n",
              "    </tr>\n",
              "    <tr>\n",
              "      <th>25%</th>\n",
              "      <td>48.620000</td>\n",
              "      <td>2.244770e+05</td>\n",
              "      <td>48.665000</td>\n",
              "      <td>49.317500</td>\n",
              "      <td>47.800000</td>\n",
              "    </tr>\n",
              "    <tr>\n",
              "      <th>50%</th>\n",
              "      <td>59.720000</td>\n",
              "      <td>3.638160e+05</td>\n",
              "      <td>59.770000</td>\n",
              "      <td>60.545000</td>\n",
              "      <td>58.850000</td>\n",
              "    </tr>\n",
              "    <tr>\n",
              "      <th>75%</th>\n",
              "      <td>87.467500</td>\n",
              "      <td>5.581500e+05</td>\n",
              "      <td>87.450000</td>\n",
              "      <td>88.695000</td>\n",
              "      <td>86.342500</td>\n",
              "    </tr>\n",
              "    <tr>\n",
              "      <th>max</th>\n",
              "      <td>123.700000</td>\n",
              "      <td>1.693652e+06</td>\n",
              "      <td>124.580000</td>\n",
              "      <td>129.440000</td>\n",
              "      <td>120.790000</td>\n",
              "    </tr>\n",
              "  </tbody>\n",
              "</table>\n",
              "</div>"
            ],
            "text/plain": [
              "        Close/Last        Volume         Open         High          Low\n",
              "count  2548.000000  2.517000e+03  2548.000000  2548.000000  2548.000000\n",
              "mean     66.043740  3.954717e+05    66.042500    66.959839    65.065043\n",
              "std      22.732093  2.345385e+05    22.710749    22.820487    22.565127\n",
              "min     -37.630000  1.530000e+02   -37.250000   -35.200000   -40.320000\n",
              "25%      48.620000  2.244770e+05    48.665000    49.317500    47.800000\n",
              "50%      59.720000  3.638160e+05    59.770000    60.545000    58.850000\n",
              "75%      87.467500  5.581500e+05    87.450000    88.695000    86.342500\n",
              "max     123.700000  1.693652e+06   124.580000   129.440000   120.790000"
            ]
          },
          "execution_count": 50,
          "metadata": {},
          "output_type": "execute_result"
        }
      ],
      "source": [
        "df.describe()"
      ]
    },
    {
      "cell_type": "code",
      "execution_count": 51,
      "metadata": {},
      "outputs": [
        {
          "data": {
            "text/plain": [
              "np.int64(0)"
            ]
          },
          "execution_count": 51,
          "metadata": {},
          "output_type": "execute_result"
        }
      ],
      "source": [
        "df.duplicated().sum()"
      ]
    },
    {
      "cell_type": "markdown",
      "metadata": {},
      "source": [
        "### **Step-2 Preprocessing**\n"
      ]
    },
    {
      "cell_type": "code",
      "execution_count": null,
      "metadata": {},
      "outputs": [
        {
          "data": {
            "text/html": [
              "<div>\n",
              "<style scoped>\n",
              "    .dataframe tbody tr th:only-of-type {\n",
              "        vertical-align: middle;\n",
              "    }\n",
              "\n",
              "    .dataframe tbody tr th {\n",
              "        vertical-align: top;\n",
              "    }\n",
              "\n",
              "    .dataframe thead th {\n",
              "        text-align: right;\n",
              "    }\n",
              "</style>\n",
              "<table border=\"1\" class=\"dataframe\">\n",
              "  <thead>\n",
              "    <tr style=\"text-align: right;\">\n",
              "      <th></th>\n",
              "      <th>Close/Last</th>\n",
              "      <th>Volume</th>\n",
              "      <th>Open</th>\n",
              "      <th>High</th>\n",
              "      <th>Low</th>\n",
              "    </tr>\n",
              "    <tr>\n",
              "      <th>Date</th>\n",
              "      <th></th>\n",
              "      <th></th>\n",
              "      <th></th>\n",
              "      <th></th>\n",
              "      <th></th>\n",
              "    </tr>\n",
              "  </thead>\n",
              "  <tbody>\n",
              "    <tr>\n",
              "      <th>2012-10-30</th>\n",
              "      <td>85.68</td>\n",
              "      <td>NaN</td>\n",
              "      <td>85.68</td>\n",
              "      <td>85.68</td>\n",
              "      <td>85.68</td>\n",
              "    </tr>\n",
              "    <tr>\n",
              "      <th>2012-10-31</th>\n",
              "      <td>86.24</td>\n",
              "      <td>192354.0</td>\n",
              "      <td>85.73</td>\n",
              "      <td>87.19</td>\n",
              "      <td>85.61</td>\n",
              "    </tr>\n",
              "    <tr>\n",
              "      <th>2012-11-01</th>\n",
              "      <td>87.09</td>\n",
              "      <td>185097.0</td>\n",
              "      <td>86.10</td>\n",
              "      <td>87.42</td>\n",
              "      <td>85.92</td>\n",
              "    </tr>\n",
              "    <tr>\n",
              "      <th>2012-11-02</th>\n",
              "      <td>84.86</td>\n",
              "      <td>273619.0</td>\n",
              "      <td>86.91</td>\n",
              "      <td>87.24</td>\n",
              "      <td>84.66</td>\n",
              "    </tr>\n",
              "    <tr>\n",
              "      <th>2012-11-05</th>\n",
              "      <td>85.65</td>\n",
              "      <td>185846.0</td>\n",
              "      <td>84.65</td>\n",
              "      <td>85.90</td>\n",
              "      <td>84.34</td>\n",
              "    </tr>\n",
              "  </tbody>\n",
              "</table>\n",
              "</div>"
            ],
            "text/plain": [
              "            Close/Last    Volume   Open   High    Low\n",
              "Date                                                 \n",
              "2012-10-30       85.68       NaN  85.68  85.68  85.68\n",
              "2012-10-31       86.24  192354.0  85.73  87.19  85.61\n",
              "2012-11-01       87.09  185097.0  86.10  87.42  85.92\n",
              "2012-11-02       84.86  273619.0  86.91  87.24  84.66\n",
              "2012-11-05       85.65  185846.0  84.65  85.90  84.34"
            ]
          },
          "execution_count": 52,
          "metadata": {},
          "output_type": "execute_result"
        }
      ],
      "source": [
        "# Step-2.1 --> Converting 'Date' column to datetime format and setting it as index\n",
        "df['Date'] = pd.to_datetime(df['Date'])\n",
        "df.set_index('Date', inplace=True)\n",
        "df.sort_index(inplace=True)\n",
        "df.head()"
      ]
    },
    {
      "cell_type": "code",
      "execution_count": 53,
      "metadata": {},
      "outputs": [
        {
          "data": {
            "text/plain": [
              "Close/Last     0\n",
              "Volume        31\n",
              "Open           0\n",
              "High           0\n",
              "Low            0\n",
              "dtype: int64"
            ]
          },
          "execution_count": 53,
          "metadata": {},
          "output_type": "execute_result"
        }
      ],
      "source": [
        "df.isnull().sum()"
      ]
    },
    {
      "cell_type": "code",
      "execution_count": null,
      "metadata": {},
      "outputs": [
        {
          "data": {
            "text/plain": [
              "Close     0\n",
              "Volume    0\n",
              "Open      0\n",
              "High      0\n",
              "Low       0\n",
              "dtype: int64"
            ]
          },
          "execution_count": 61,
          "metadata": {},
          "output_type": "execute_result"
        }
      ],
      "source": [
        "# Step-2.2 --> Handling Missing Values\n",
        "# using forward fill method to fill the missing values and also renaming column for consistency (Close/Last) As Close\n",
        "df.rename(columns={'Close/Last': 'Close'}, inplace=True)\n",
        "df['Volume'] = df['Volume'].ffill().bfill()\n",
        "# df.isnull().sum()"
      ]
    },
    {
      "cell_type": "markdown",
      "metadata": {},
      "source": [
        "### **Step 3: Exploratory Data Analysis (EDA)**"
      ]
    },
    {
      "cell_type": "code",
      "execution_count": 64,
      "metadata": {},
      "outputs": [
        {
          "data": {
            "text/html": [
              "<div>\n",
              "<style scoped>\n",
              "    .dataframe tbody tr th:only-of-type {\n",
              "        vertical-align: middle;\n",
              "    }\n",
              "\n",
              "    .dataframe tbody tr th {\n",
              "        vertical-align: top;\n",
              "    }\n",
              "\n",
              "    .dataframe thead th {\n",
              "        text-align: right;\n",
              "    }\n",
              "</style>\n",
              "<table border=\"1\" class=\"dataframe\">\n",
              "  <thead>\n",
              "    <tr style=\"text-align: right;\">\n",
              "      <th></th>\n",
              "      <th>count</th>\n",
              "      <th>mean</th>\n",
              "      <th>std</th>\n",
              "      <th>min</th>\n",
              "      <th>25%</th>\n",
              "      <th>50%</th>\n",
              "      <th>75%</th>\n",
              "      <th>max</th>\n",
              "    </tr>\n",
              "  </thead>\n",
              "  <tbody>\n",
              "    <tr>\n",
              "      <th>Open</th>\n",
              "      <td>2548.0</td>\n",
              "      <td>66.042500</td>\n",
              "      <td>22.710749</td>\n",
              "      <td>-37.25</td>\n",
              "      <td>48.6650</td>\n",
              "      <td>59.770</td>\n",
              "      <td>87.4500</td>\n",
              "      <td>124.58</td>\n",
              "    </tr>\n",
              "    <tr>\n",
              "      <th>High</th>\n",
              "      <td>2548.0</td>\n",
              "      <td>66.959839</td>\n",
              "      <td>22.820487</td>\n",
              "      <td>-35.20</td>\n",
              "      <td>49.3175</td>\n",
              "      <td>60.545</td>\n",
              "      <td>88.6950</td>\n",
              "      <td>129.44</td>\n",
              "    </tr>\n",
              "    <tr>\n",
              "      <th>Low</th>\n",
              "      <td>2548.0</td>\n",
              "      <td>65.065043</td>\n",
              "      <td>22.565127</td>\n",
              "      <td>-40.32</td>\n",
              "      <td>47.8000</td>\n",
              "      <td>58.850</td>\n",
              "      <td>86.3425</td>\n",
              "      <td>120.79</td>\n",
              "    </tr>\n",
              "    <tr>\n",
              "      <th>Close</th>\n",
              "      <td>2548.0</td>\n",
              "      <td>66.043740</td>\n",
              "      <td>22.732093</td>\n",
              "      <td>-37.63</td>\n",
              "      <td>48.6200</td>\n",
              "      <td>59.720</td>\n",
              "      <td>87.4675</td>\n",
              "      <td>123.70</td>\n",
              "    </tr>\n",
              "    <tr>\n",
              "      <th>Volume</th>\n",
              "      <td>2548.0</td>\n",
              "      <td>392403.096154</td>\n",
              "      <td>235066.581496</td>\n",
              "      <td>153.00</td>\n",
              "      <td>220238.5000</td>\n",
              "      <td>360841.000</td>\n",
              "      <td>555833.5000</td>\n",
              "      <td>1693652.00</td>\n",
              "    </tr>\n",
              "  </tbody>\n",
              "</table>\n",
              "</div>"
            ],
            "text/plain": [
              "         count           mean            std     min          25%         50%  \\\n",
              "Open    2548.0      66.042500      22.710749  -37.25      48.6650      59.770   \n",
              "High    2548.0      66.959839      22.820487  -35.20      49.3175      60.545   \n",
              "Low     2548.0      65.065043      22.565127  -40.32      47.8000      58.850   \n",
              "Close   2548.0      66.043740      22.732093  -37.63      48.6200      59.720   \n",
              "Volume  2548.0  392403.096154  235066.581496  153.00  220238.5000  360841.000   \n",
              "\n",
              "                75%         max  \n",
              "Open        87.4500      124.58  \n",
              "High        88.6950      129.44  \n",
              "Low         86.3425      120.79  \n",
              "Close       87.4675      123.70  \n",
              "Volume  555833.5000  1693652.00  "
            ]
          },
          "execution_count": 64,
          "metadata": {},
          "output_type": "execute_result"
        }
      ],
      "source": [
        "# Step-3.1 Basic Numerical summary\n",
        "# .T flips rows ↔ columns.\n",
        "\n",
        "df[['Open', 'High', 'Low', 'Close', 'Volume']].describe().T"
      ]
    },
    {
      "cell_type": "code",
      "execution_count": 66,
      "metadata": {},
      "outputs": [
        {
          "data": {
            "image/png": "[encoded data removed]",
            "text/plain": [
              "<Figure size 1400x600 with 1 Axes>"
            ]
          },
          "metadata": {},
          "output_type": "display_data"
        }
      ],
      "source": [
        "# Step-3.2 time series plot for 'Close' price over time\n",
        "\n",
        "plt.figure(figsize=(14,6))\n",
        "plt.plot(df.index, df['Close'], color='blue', linewidth=1.5, label='Close Price')\n",
        "plt.title('Crude Oil Prices (2012–2023)', fontsize=16)\n",
        "plt.xlabel('Date', fontsize=12)\n",
        "plt.ylabel('Price (USD per barrel)', fontsize=12)\n",
        "plt.legend()\n",
        "plt.grid(alpha=0.3)\n",
        "plt.show()"
      ]
    }
  ],
  "metadata": {
    "colab": {
      "provenance": []
    },
    "kernelspec": {
      "display_name": "base",
      "language": "python",
      "name": "python3"
    },
    "language_info": {
      "codemirror_mode": {
        "name": "ipython",
        "version": 3
      },
      "file_extension": ".py",
      "mimetype": "text/x-python",
      "name": "python",
      "nbconvert_exporter": "python",
      "pygments_lexer": "ipython3",
      "version": "3.13.5"
    }
  },
  "nbformat": 4,
  "nbformat_minor": 0
}
