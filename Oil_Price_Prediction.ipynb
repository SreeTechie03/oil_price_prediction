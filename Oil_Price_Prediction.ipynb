{
  "cells": [
    {
      "cell_type": "code",
      "execution_count": 1,
      "metadata": {
        "id": "Sp5yYT6lnxCh"
      },
      "outputs": [],
      "source": [
        "# 📌 Import Libraries\n",
        "import pandas as pd\n",
        "import numpy as np\n",
        "import matplotlib.pyplot as plt\n",
        "import seaborn as sns"
      ]
    },
    {
      "cell_type": "code",
      "execution_count": 13,
      "metadata": {
        "id": "uLMjNVYlOu4I"
      },
      "outputs": [],
      "source": [
        "df = pd.read_csv(\"Crude oil.csv\")"
      ]
    },
    {
      "cell_type": "code",
      "execution_count": 9,
      "metadata": {
        "colab": {
          "base_uri": "https://localhost:8080/",
          "height": 255
        },
        "id": "QJKLoz1pbSRt",
        "outputId": "1d3c55b2-bb83-4d15-eefd-7cc22ccf9a3c"
      },
      "outputs": [
        {
          "name": "stdout",
          "output_type": "stream",
          "text": [
            "Date parse errors (NaT): 0\n"
          ]
        },
        {
          "data": {
            "text/html": [
              "<div>\n",
              "<style scoped>\n",
              "    .dataframe tbody tr th:only-of-type {\n",
              "        vertical-align: middle;\n",
              "    }\n",
              "\n",
              "    .dataframe tbody tr th {\n",
              "        vertical-align: top;\n",
              "    }\n",
              "\n",
              "    .dataframe thead th {\n",
              "        text-align: right;\n",
              "    }\n",
              "</style>\n",
              "<table border=\"1\" class=\"dataframe\">\n",
              "  <thead>\n",
              "    <tr style=\"text-align: right;\">\n",
              "      <th></th>\n",
              "      <th>Close</th>\n",
              "      <th>Volume</th>\n",
              "      <th>Open</th>\n",
              "      <th>High</th>\n",
              "      <th>Low</th>\n",
              "    </tr>\n",
              "    <tr>\n",
              "      <th>Date</th>\n",
              "      <th></th>\n",
              "      <th></th>\n",
              "      <th></th>\n",
              "      <th></th>\n",
              "      <th></th>\n",
              "    </tr>\n",
              "  </thead>\n",
              "  <tbody>\n",
              "    <tr>\n",
              "      <th>2012-10-30</th>\n",
              "      <td>85.68</td>\n",
              "      <td>NaN</td>\n",
              "      <td>85.68</td>\n",
              "      <td>85.68</td>\n",
              "      <td>85.68</td>\n",
              "    </tr>\n",
              "    <tr>\n",
              "      <th>2012-10-31</th>\n",
              "      <td>86.24</td>\n",
              "      <td>192354.0</td>\n",
              "      <td>85.73</td>\n",
              "      <td>87.19</td>\n",
              "      <td>85.61</td>\n",
              "    </tr>\n",
              "    <tr>\n",
              "      <th>2012-11-01</th>\n",
              "      <td>87.09</td>\n",
              "      <td>185097.0</td>\n",
              "      <td>86.10</td>\n",
              "      <td>87.42</td>\n",
              "      <td>85.92</td>\n",
              "    </tr>\n",
              "    <tr>\n",
              "      <th>2012-11-02</th>\n",
              "      <td>84.86</td>\n",
              "      <td>273619.0</td>\n",
              "      <td>86.91</td>\n",
              "      <td>87.24</td>\n",
              "      <td>84.66</td>\n",
              "    </tr>\n",
              "    <tr>\n",
              "      <th>2012-11-05</th>\n",
              "      <td>85.65</td>\n",
              "      <td>185846.0</td>\n",
              "      <td>84.65</td>\n",
              "      <td>85.90</td>\n",
              "      <td>84.34</td>\n",
              "    </tr>\n",
              "  </tbody>\n",
              "</table>\n",
              "</div>"
            ],
            "text/plain": [
              "            Close    Volume   Open   High    Low\n",
              "Date                                            \n",
              "2012-10-30  85.68       NaN  85.68  85.68  85.68\n",
              "2012-10-31  86.24  192354.0  85.73  87.19  85.61\n",
              "2012-11-01  87.09  185097.0  86.10  87.42  85.92\n",
              "2012-11-02  84.86  273619.0  86.91  87.24  84.66\n",
              "2012-11-05  85.65  185846.0  84.65  85.90  84.34"
            ]
          },
          "execution_count": 9,
          "metadata": {},
          "output_type": "execute_result"
        }
      ],
      "source": [
        "# 0.1 Re-load (or continue with your df); parse date with explicit format\n",
        "df['Date'] = pd.to_datetime(df['Date'], format='%m/%d/%Y', errors='coerce')\n",
        "\n",
        "# 0.2 Check for any parse failures\n",
        "print(\"Date parse errors (NaT):\", df['Date'].isna().sum())\n",
        "\n",
        "# 0.3 Sort ascending (oldest -> newest) and reset index\n",
        "df = df.sort_values('Date').reset_index(drop=True)\n",
        "\n",
        "# 0.4 Optional: rename column for convenience\n",
        "df = df.rename(columns={'Close/Last': 'Close'})\n",
        "\n",
        "# 0.5 Set the Date as index (very handy for time series operations)\n",
        "df.set_index('Date', inplace=True)\n",
        "df.head()\n"
      ]
    },
    {
      "cell_type": "code",
      "execution_count": 10,
      "metadata": {
        "colab": {
          "base_uri": "https://localhost:8080/"
        },
        "id": "nekFSn0zReJb",
        "outputId": "b1478526-274b-42ab-8d81-e00fe78cc956"
      },
      "outputs": [
        {
          "name": "stdout",
          "output_type": "stream",
          "text": [
            "<class 'pandas.core.frame.DataFrame'>\n",
            "DatetimeIndex: 2548 entries, 2012-10-30 to 2022-10-28\n",
            "Data columns (total 5 columns):\n",
            " #   Column  Non-Null Count  Dtype  \n",
            "---  ------  --------------  -----  \n",
            " 0   Close   2548 non-null   float64\n",
            " 1   Volume  2517 non-null   float64\n",
            " 2   Open    2548 non-null   float64\n",
            " 3   High    2548 non-null   float64\n",
            " 4   Low     2548 non-null   float64\n",
            "dtypes: float64(5)\n",
            "memory usage: 119.4 KB\n",
            "None\n"
          ]
        }
      ],
      "source": [
        "print(df.info())"
      ]
    },
    {
      "cell_type": "code",
      "execution_count": 11,
      "metadata": {
        "colab": {
          "base_uri": "https://localhost:8080/"
        },
        "id": "w6jg9-gMRlU4",
        "outputId": "35c0269c-158d-476d-9e1d-59f97f2117cc"
      },
      "outputs": [
        {
          "name": "stdout",
          "output_type": "stream",
          "text": [
            "Close      0\n",
            "Volume    31\n",
            "Open       0\n",
            "High       0\n",
            "Low        0\n",
            "dtype: int64\n"
          ]
        }
      ],
      "source": [
        "print(df.isna().sum())"
      ]
    },
    {
      "cell_type": "code",
      "execution_count": 12,
      "metadata": {
        "colab": {
          "base_uri": "https://localhost:8080/"
        },
        "id": "VVkJRhm6SCWX",
        "outputId": "c299b77e-ce09-4634-8dbe-9ce6fce0b3a3"
      },
      "outputs": [
        {
          "name": "stdout",
          "output_type": "stream",
          "text": [
            "duplicated index: 0\n"
          ]
        }
      ],
      "source": [
        "# 1.2 Look for duplicated dates (should be none)\n",
        "print(\"duplicated index:\", df.index.duplicated().sum())"
      ]
    }
  ],
  "metadata": {
    "colab": {
      "provenance": []
    },
    "kernelspec": {
      "display_name": "base",
      "language": "python",
      "name": "python3"
    },
    "language_info": {
      "codemirror_mode": {
        "name": "ipython",
        "version": 3
      },
      "file_extension": ".py",
      "mimetype": "text/x-python",
      "name": "python",
      "nbconvert_exporter": "python",
      "pygments_lexer": "ipython3",
      "version": "3.13.5"
    }
  },
  "nbformat": 4,
  "nbformat_minor": 0
}
